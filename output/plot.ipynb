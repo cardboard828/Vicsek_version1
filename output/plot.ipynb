{
 "cells": [
  {
   "cell_type": "code",
   "execution_count": null,
   "metadata": {},
   "outputs": [
    {
     "ename": "",
     "evalue": "",
     "output_type": "error",
     "traceback": [
      "\u001b[1;31m'Python 3.13.2' でセルを実行するには、 ipykernel パッケージが必要です。\n",
      "\u001b[1;31m次のコマンドを実行して、'ipykernel' を Python 環境にインストールします。\n",
      "\u001b[1;31mコマンド: '/opt/homebrew/bin/python3 -m pip install ipykernel -U --user --force-reinstall'"
     ]
    }
   ],
   "source": [
    "import matplotlib.pyplot as plt\n",
    "\n",
    "# combined.txt ファイルの読み込み\n",
    "x = []\n",
    "y = []\n",
    "\n",
    "with open('combined.txt', 'r', encoding='utf-8') as file:\n",
    "    for line in file:\n",
    "        # スペースで分割してデータを取得\n",
    "        data = line.split()\n",
    "        if len(data) == 2:\n",
    "            y_value = float(data[0])  # 1列目をy座標として取得\n",
    "            x_value = float(data[1])  # 2列目をx座標として取得\n",
    "            \n",
    "            # etaが0.42以下の場合は無視\n",
    "            if x_value > 0.42:\n",
    "                y.append(y_value)\n",
    "                x.append(x_value)\n",
    "\n",
    "# プロット\n",
    "plt.figure(figsize=(8, 6))\n",
    "plt.scatter(x, y, color='blue', marker='o')  # 散布図としてプロット\n",
    "plt.xlabel('η')\n",
    "plt.ylabel('Order parameter')\n",
    "plt.title('10000 steps')\n",
    "plt.grid(True)\n",
    "plt.show()\n",
    "\n"
   ]
  }
 ],
 "metadata": {
  "kernelspec": {
   "display_name": "Python 3",
   "language": "python",
   "name": "python3"
  },
  "language_info": {
   "codemirror_mode": {
    "name": "ipython",
    "version": 3
   },
   "file_extension": ".py",
   "mimetype": "text/x-python",
   "name": "python",
   "nbconvert_exporter": "python",
   "pygments_lexer": "ipython3",
   "version": "3.13.2"
  }
 },
 "nbformat": 4,
 "nbformat_minor": 2
}
