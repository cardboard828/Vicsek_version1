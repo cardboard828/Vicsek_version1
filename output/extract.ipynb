{
 "cells": [
  {
   "cell_type": "code",
   "execution_count": 4,
   "metadata": {},
   "outputs": [],
   "source": [
    "import os\n",
    "\n",
    "# 出力を保存するファイル名\n",
    "output_filename = 'combined.txt'\n",
    "\n",
    "# 7で始まる.txtファイルを検索\n",
    "txt_files = [f for f in os.listdir() if f.endswith('.txt') and f.startswith('eta=')]\n",
    "\n",
    "# 出力内容を一時的に格納するリスト\n",
    "output_lines = []\n",
    "\n",
    "# 9行目を抽出\n",
    "for file in txt_files:\n",
    "    with open(file, 'r', encoding='utf-8') as f:\n",
    "        lines = f.readlines()\n",
    "        if len(lines) >= 8:\n",
    "            output_lines.append(lines[7].strip())  # 9行目はインデックス8\n",
    "\n",
    "# 出力をcombined.txtに保存\n",
    "with open(output_filename, 'w', encoding='utf-8') as output_file:\n",
    "    for line in output_lines:\n",
    "        output_file.write(line + '\\n')  # 改行を加えて書き込む\n",
    "\n"
   ]
  }
 ],
 "metadata": {
  "kernelspec": {
   "display_name": "Python 3",
   "language": "python",
   "name": "python3"
  },
  "language_info": {
   "codemirror_mode": {
    "name": "ipython",
    "version": 3
   },
   "file_extension": ".py",
   "mimetype": "text/x-python",
   "name": "python",
   "nbconvert_exporter": "python",
   "pygments_lexer": "ipython3",
   "version": "3.11.11"
  }
 },
 "nbformat": 4,
 "nbformat_minor": 2
}
